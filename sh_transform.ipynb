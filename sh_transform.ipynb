{
 "cells": [
  {
   "cell_type": "markdown",
   "metadata": {},
   "source": [
    "### Solving Poisson Equation on S^2: $\\Delta u = f$\n"
   ]
  },
  {
   "cell_type": "code",
   "execution_count": 1,
   "metadata": {
    "ExecuteTime": {
     "end_time": "2021-11-13T18:40:28.901922Z",
     "start_time": "2021-11-13T18:40:27.133923Z"
    }
   },
   "outputs": [
    {
     "name": "stdout",
     "output_type": "stream",
     "text": [
      "[Errno 2] No such file or directory: '/Users/aparnagupte/Documents/cornell-reu-2021/PDPINN/doc/plmbar.doc'\n",
      "[Errno 2] No such file or directory: '/Users/aparnagupte/Documents/cornell-reu-2021/PDPINN/doc/plmbar_d1.doc'\n",
      "[Errno 2] No such file or directory: '/Users/aparnagupte/Documents/cornell-reu-2021/PDPINN/doc/plbar.doc'\n",
      "[Errno 2] No such file or directory: '/Users/aparnagupte/Documents/cornell-reu-2021/PDPINN/doc/plbar_d1.doc'\n",
      "[Errno 2] No such file or directory: '/Users/aparnagupte/Documents/cornell-reu-2021/PDPINN/doc/plmon.doc'\n",
      "[Errno 2] No such file or directory: '/Users/aparnagupte/Documents/cornell-reu-2021/PDPINN/doc/plmon_d1.doc'\n",
      "[Errno 2] No such file or directory: '/Users/aparnagupte/Documents/cornell-reu-2021/PDPINN/doc/plon.doc'\n",
      "[Errno 2] No such file or directory: '/Users/aparnagupte/Documents/cornell-reu-2021/PDPINN/doc/plon_d1.doc'\n",
      "[Errno 2] No such file or directory: '/Users/aparnagupte/Documents/cornell-reu-2021/PDPINN/doc/plmschmidt.doc'\n",
      "[Errno 2] No such file or directory: '/Users/aparnagupte/Documents/cornell-reu-2021/PDPINN/doc/plmschmidt_d1.doc'\n",
      "[Errno 2] No such file or directory: '/Users/aparnagupte/Documents/cornell-reu-2021/PDPINN/doc/plschmidt.doc'\n",
      "[Errno 2] No such file or directory: '/Users/aparnagupte/Documents/cornell-reu-2021/PDPINN/doc/plschmidt_d1.doc'\n",
      "[Errno 2] No such file or directory: '/Users/aparnagupte/Documents/cornell-reu-2021/PDPINN/doc/plegendrea.doc'\n",
      "[Errno 2] No such file or directory: '/Users/aparnagupte/Documents/cornell-reu-2021/PDPINN/doc/plegendrea_d1.doc'\n",
      "[Errno 2] No such file or directory: '/Users/aparnagupte/Documents/cornell-reu-2021/PDPINN/doc/plegendre.doc'\n",
      "[Errno 2] No such file or directory: '/Users/aparnagupte/Documents/cornell-reu-2021/PDPINN/doc/plegendre_d1.doc'\n",
      "[Errno 2] No such file or directory: '/Users/aparnagupte/Documents/cornell-reu-2021/PDPINN/doc/shexpanddh.doc'\n",
      "[Errno 2] No such file or directory: '/Users/aparnagupte/Documents/cornell-reu-2021/PDPINN/doc/makegriddh.doc'\n",
      "[Errno 2] No such file or directory: '/Users/aparnagupte/Documents/cornell-reu-2021/PDPINN/doc/shexpanddhc.doc'\n",
      "[Errno 2] No such file or directory: '/Users/aparnagupte/Documents/cornell-reu-2021/PDPINN/doc/makegriddhc.doc'\n",
      "[Errno 2] No such file or directory: '/Users/aparnagupte/Documents/cornell-reu-2021/PDPINN/doc/shglq.doc'\n",
      "[Errno 2] No such file or directory: '/Users/aparnagupte/Documents/cornell-reu-2021/PDPINN/doc/shexpandglq.doc'\n",
      "[Errno 2] No such file or directory: '/Users/aparnagupte/Documents/cornell-reu-2021/PDPINN/doc/makegridglq.doc'\n",
      "[Errno 2] No such file or directory: '/Users/aparnagupte/Documents/cornell-reu-2021/PDPINN/doc/shexpandglqc.doc'\n",
      "[Errno 2] No such file or directory: '/Users/aparnagupte/Documents/cornell-reu-2021/PDPINN/doc/makegridglqc.doc'\n",
      "[Errno 2] No such file or directory: '/Users/aparnagupte/Documents/cornell-reu-2021/PDPINN/doc/glqgridcoord.doc'\n",
      "[Errno 2] No such file or directory: '/Users/aparnagupte/Documents/cornell-reu-2021/PDPINN/doc/shexpandlsq.doc'\n",
      "[Errno 2] No such file or directory: '/Users/aparnagupte/Documents/cornell-reu-2021/PDPINN/doc/shexpandwlsq.doc'\n",
      "[Errno 2] No such file or directory: '/Users/aparnagupte/Documents/cornell-reu-2021/PDPINN/doc/makegrid2d.doc'\n",
      "[Errno 2] No such file or directory: '/Users/aparnagupte/Documents/cornell-reu-2021/PDPINN/doc/makegridpoint.doc'\n",
      "[Errno 2] No such file or directory: '/Users/aparnagupte/Documents/cornell-reu-2021/PDPINN/doc/makegridpointc.doc'\n",
      "[Errno 2] No such file or directory: '/Users/aparnagupte/Documents/cornell-reu-2021/PDPINN/doc/shmultiply.doc'\n",
      "[Errno 2] No such file or directory: '/Users/aparnagupte/Documents/cornell-reu-2021/PDPINN/doc/shread2.doc'\n",
      "[Errno 2] No such file or directory: '/Users/aparnagupte/Documents/cornell-reu-2021/PDPINN/doc/shread2error.doc'\n",
      "[Errno 2] No such file or directory: '/Users/aparnagupte/Documents/cornell-reu-2021/PDPINN/doc/shreadjpl.doc'\n",
      "[Errno 2] No such file or directory: '/Users/aparnagupte/Documents/cornell-reu-2021/PDPINN/doc/shreadjplerror.doc'\n",
      "[Errno 2] No such file or directory: '/Users/aparnagupte/Documents/cornell-reu-2021/PDPINN/doc/shcilmtovector.doc'\n",
      "[Errno 2] No such file or directory: '/Users/aparnagupte/Documents/cornell-reu-2021/PDPINN/doc/shvectortocilm.doc'\n",
      "[Errno 2] No such file or directory: '/Users/aparnagupte/Documents/cornell-reu-2021/PDPINN/doc/shcilmtocindex.doc'\n",
      "[Errno 2] No such file or directory: '/Users/aparnagupte/Documents/cornell-reu-2021/PDPINN/doc/shcindextocilm.doc'\n",
      "[Errno 2] No such file or directory: '/Users/aparnagupte/Documents/cornell-reu-2021/PDPINN/doc/shrtoc.doc'\n",
      "[Errno 2] No such file or directory: '/Users/aparnagupte/Documents/cornell-reu-2021/PDPINN/doc/shctor.doc'\n",
      "[Errno 2] No such file or directory: '/Users/aparnagupte/Documents/cornell-reu-2021/PDPINN/doc/shadmitcorr.doc'\n",
      "[Errno 2] No such file or directory: '/Users/aparnagupte/Documents/cornell-reu-2021/PDPINN/doc/shconfidence.doc'\n",
      "[Errno 2] No such file or directory: '/Users/aparnagupte/Documents/cornell-reu-2021/PDPINN/doc/shmultitaperse.doc'\n",
      "[Errno 2] No such file or directory: '/Users/aparnagupte/Documents/cornell-reu-2021/PDPINN/doc/shmultitapercse.doc'\n",
      "[Errno 2] No such file or directory: '/Users/aparnagupte/Documents/cornell-reu-2021/PDPINN/doc/shlocalizedadmitcorr.doc'\n",
      "[Errno 2] No such file or directory: '/Users/aparnagupte/Documents/cornell-reu-2021/PDPINN/doc/shreturntapers.doc'\n",
      "[Errno 2] No such file or directory: '/Users/aparnagupte/Documents/cornell-reu-2021/PDPINN/doc/shreturntapersm.doc'\n",
      "[Errno 2] No such file or directory: '/Users/aparnagupte/Documents/cornell-reu-2021/PDPINN/doc/computedm.doc'\n",
      "[Errno 2] No such file or directory: '/Users/aparnagupte/Documents/cornell-reu-2021/PDPINN/doc/computedg82.doc'\n",
      "[Errno 2] No such file or directory: '/Users/aparnagupte/Documents/cornell-reu-2021/PDPINN/doc/shfindlwin.doc'\n",
      "[Errno 2] No such file or directory: '/Users/aparnagupte/Documents/cornell-reu-2021/PDPINN/doc/shbiask.doc'\n",
      "[Errno 2] No such file or directory: '/Users/aparnagupte/Documents/cornell-reu-2021/PDPINN/doc/shmtcouplingmatrix.doc'\n",
      "[Errno 2] No such file or directory: '/Users/aparnagupte/Documents/cornell-reu-2021/PDPINN/doc/shbiasadmitcorr.doc'\n",
      "[Errno 2] No such file or directory: '/Users/aparnagupte/Documents/cornell-reu-2021/PDPINN/doc/shmtdebias.doc'\n",
      "[Errno 2] No such file or directory: '/Users/aparnagupte/Documents/cornell-reu-2021/PDPINN/doc/shmtvaropt.doc'\n",
      "[Errno 2] No such file or directory: '/Users/aparnagupte/Documents/cornell-reu-2021/PDPINN/doc/shsjkpg.doc'\n",
      "[Errno 2] No such file or directory: '/Users/aparnagupte/Documents/cornell-reu-2021/PDPINN/doc/shmultitapermaskse.doc'\n",
      "[Errno 2] No such file or directory: '/Users/aparnagupte/Documents/cornell-reu-2021/PDPINN/doc/shmultitapermaskcse.doc'\n",
      "[Errno 2] No such file or directory: '/Users/aparnagupte/Documents/cornell-reu-2021/PDPINN/doc/shreturntapersmap.doc'\n",
      "[Errno 2] No such file or directory: '/Users/aparnagupte/Documents/cornell-reu-2021/PDPINN/doc/shbiaskmask.doc'\n",
      "[Errno 2] No such file or directory: '/Users/aparnagupte/Documents/cornell-reu-2021/PDPINN/doc/computedmap.doc'\n",
      "[Errno 2] No such file or directory: '/Users/aparnagupte/Documents/cornell-reu-2021/PDPINN/doc/curve2mask.doc'\n",
      "[Errno 2] No such file or directory: '/Users/aparnagupte/Documents/cornell-reu-2021/PDPINN/doc/shbias.doc'\n",
      "[Errno 2] No such file or directory: '/Users/aparnagupte/Documents/cornell-reu-2021/PDPINN/doc/sphericalcapcoef.doc'\n",
      "[Errno 2] No such file or directory: '/Users/aparnagupte/Documents/cornell-reu-2021/PDPINN/doc/djpi2.doc'\n",
      "[Errno 2] No such file or directory: '/Users/aparnagupte/Documents/cornell-reu-2021/PDPINN/doc/shrotatecoef.doc'\n",
      "[Errno 2] No such file or directory: '/Users/aparnagupte/Documents/cornell-reu-2021/PDPINN/doc/shrotaterealcoef.doc'\n",
      "[Errno 2] No such file or directory: '/Users/aparnagupte/Documents/cornell-reu-2021/PDPINN/doc/makegravgriddh.doc'\n",
      "[Errno 2] No such file or directory: '/Users/aparnagupte/Documents/cornell-reu-2021/PDPINN/doc/makegravgradgriddh.doc'\n",
      "[Errno 2] No such file or directory: '/Users/aparnagupte/Documents/cornell-reu-2021/PDPINN/doc/makegeoidgriddh.doc'\n",
      "[Errno 2] No such file or directory: '/Users/aparnagupte/Documents/cornell-reu-2021/PDPINN/doc/cilmplusdh.doc'\n",
      "[Errno 2] No such file or directory: '/Users/aparnagupte/Documents/cornell-reu-2021/PDPINN/doc/cilmminusdh.doc'\n",
      "[Errno 2] No such file or directory: '/Users/aparnagupte/Documents/cornell-reu-2021/PDPINN/doc/cilmplusrhohdh.doc'\n",
      "[Errno 2] No such file or directory: '/Users/aparnagupte/Documents/cornell-reu-2021/PDPINN/doc/cilmminusrhohdh.doc'\n",
      "[Errno 2] No such file or directory: '/Users/aparnagupte/Documents/cornell-reu-2021/PDPINN/doc/batohilmdh.doc'\n",
      "[Errno 2] No such file or directory: '/Users/aparnagupte/Documents/cornell-reu-2021/PDPINN/doc/batohilmrhohdh.doc'\n",
      "[Errno 2] No such file or directory: '/Users/aparnagupte/Documents/cornell-reu-2021/PDPINN/doc/downcontfilterma.doc'\n",
      "[Errno 2] No such file or directory: '/Users/aparnagupte/Documents/cornell-reu-2021/PDPINN/doc/downcontfiltermc.doc'\n",
      "[Errno 2] No such file or directory: '/Users/aparnagupte/Documents/cornell-reu-2021/PDPINN/doc/normalgravity.doc'\n",
      "[Errno 2] No such file or directory: '/Users/aparnagupte/Documents/cornell-reu-2021/PDPINN/doc/makemaggriddh.doc'\n",
      "[Errno 2] No such file or directory: '/Users/aparnagupte/Documents/cornell-reu-2021/PDPINN/doc/makecirclecoord.doc'\n",
      "[Errno 2] No such file or directory: '/Users/aparnagupte/Documents/cornell-reu-2021/PDPINN/doc/makeellipsecoord.doc'\n",
      "[Errno 2] No such file or directory: '/Users/aparnagupte/Documents/cornell-reu-2021/PDPINN/doc/wigner3j.doc'\n",
      "[Errno 2] No such file or directory: '/Users/aparnagupte/Documents/cornell-reu-2021/PDPINN/doc/dhaj.doc'\n",
      "[Errno 2] No such file or directory: '/Users/aparnagupte/Documents/cornell-reu-2021/PDPINN/doc/makemaggradgriddh.doc'\n",
      "[Errno 2] No such file or directory: '/Users/aparnagupte/Documents/cornell-reu-2021/PDPINN/doc/shrotatetapers.doc'\n",
      "[Errno 2] No such file or directory: '/Users/aparnagupte/Documents/cornell-reu-2021/PDPINN/doc/slepiancoeffs.doc'\n",
      "[Errno 2] No such file or directory: '/Users/aparnagupte/Documents/cornell-reu-2021/PDPINN/doc/slepiancoeffstosh.doc'\n",
      "[Errno 2] No such file or directory: '/Users/aparnagupte/Documents/cornell-reu-2021/PDPINN/doc/shscouplingmatrix.doc'\n",
      "[Errno 2] No such file or directory: '/Users/aparnagupte/Documents/cornell-reu-2021/PDPINN/doc/shmtvar.doc'\n",
      "[Errno 2] No such file or directory: '/Users/aparnagupte/Documents/cornell-reu-2021/PDPINN/doc/shslepianvar.doc'\n",
      "[Errno 2] No such file or directory: '/Users/aparnagupte/Documents/cornell-reu-2021/PDPINN/doc/shscouplingmatrixcap.doc'\n",
      "[Errno 2] No such file or directory: '/Users/aparnagupte/Documents/cornell-reu-2021/PDPINN/doc/makegravgridpoint.doc'\n",
      "[Errno 2] No such file or directory: '/Users/aparnagupte/Documents/cornell-reu-2021/PDPINN/doc/makemaggridpoint.doc'\n",
      "[Errno 2] No such file or directory: '/Users/aparnagupte/Documents/cornell-reu-2021/PDPINN/doc/makegradientdh.doc'\n"
     ]
    }
   ],
   "source": [
    "import my_backends \n",
    "from my_backends.ducc0_wrapper import *\n",
    "import my_shcoeffs\n",
    "from my_shcoeffs import SHCoeffs\n",
    "## my_shcoeffs contains expand_adjoint_analysis"
   ]
  },
  {
   "cell_type": "code",
   "execution_count": 2,
   "metadata": {
    "ExecuteTime": {
     "end_time": "2021-11-13T18:40:29.493367Z",
     "start_time": "2021-11-13T18:40:28.903944Z"
    }
   },
   "outputs": [],
   "source": [
    "import torch\n",
    "\n",
    "N = 20\n",
    "from Basis import SPHBasis\n",
    "from Problem import Problem_Sphere_Poisson\n",
    "from Model import Model\n",
    "from Net import Sphere_Net, SPH_Sphere_Net\n",
    "import seaborn as sns\n",
    "import matplotlib.pyplot as plt\n",
    "import math\n",
    "from math import pi\n",
    "from spherical_harmonics import *\n",
    "from torch.distributions.uniform import Uniform\n",
    "from numpy import arccos\n",
    "import numpy as np\n",
    "\n",
    "import pyshtools\n",
    "from pyshtools.shio import shread\n",
    "from pyshtools.expand import MakeGridDH\n",
    "from pyshtools.expand import SHExpandDH\n",
    "from pyshtools.spectralanalysis import spectrum\n",
    "\n",
    "torch.manual_seed(0)\n",
    "maxiter = 1000\n",
    "problem = Problem_Sphere_Poisson()"
   ]
  },
  {
   "cell_type": "code",
   "execution_count": 3,
   "metadata": {
    "ExecuteTime": {
     "end_time": "2021-11-13T18:40:29.524008Z",
     "start_time": "2021-11-13T18:40:29.502392Z"
    }
   },
   "outputs": [
    {
     "data": {
      "text/plain": [
       "torch.Size([800, 2])"
      ]
     },
     "execution_count": 3,
     "metadata": {},
     "output_type": "execute_result"
    }
   ],
   "source": [
    "N = 20\n",
    "azimuth = torch.linspace(0.0001, pi, N, requires_grad=False)\n",
    "polar = torch.linspace(0, 2*pi, 2*N, requires_grad=False)\n",
    "\n",
    "azimuth, polar = torch.meshgrid(azimuth, polar)\n",
    "location = torch.cat([azimuth.reshape(-1, 1), polar.reshape(-1, 1)], dim=1)\n",
    "location.shape"
   ]
  },
  {
   "cell_type": "code",
   "execution_count": null,
   "metadata": {
    "ExecuteTime": {
     "end_time": "2021-11-13T18:41:09.783046Z",
     "start_time": "2021-11-13T18:40:29.526003Z"
    }
   },
   "outputs": [
    {
     "name": "stdout",
     "output_type": "stream",
     "text": [
      "iteration 0: loss = 101.02820013512623, pde loss = 100.60489089836132\n"
     ]
    },
    {
     "data": {
      "image/png": "[encoded data removed]",
      "text/plain": [
       "<Figure size 576x432 with 2 Axes>"
      ]
     },
     "metadata": {
      "needs_background": "light"
     },
     "output_type": "display_data"
    },
    {
     "data": {
      "image/png": "[encoded data removed]",
      "text/plain": [
       "<Figure size 720x360 with 1 Axes>"
      ]
     },
     "metadata": {},
     "output_type": "display_data"
    },
    {
     "name": "stdout",
     "output_type": "stream",
     "text": [
      "iteration 10: loss = 100.88153355499837, pde loss = 100.85066383635733\n",
      "iteration 20: loss = 100.99563165616756, pde loss = 100.9953733516105\n",
      "iteration 30: loss = 100.99338631284432, pde loss = 100.99317835315547\n",
      "iteration 40: loss = 100.97628012096602, pde loss = 100.97584872751823\n",
      "iteration 50: loss = 100.97210459567421, pde loss = 100.97181670448325\n",
      "iteration 60: loss = 100.97333303946667, pde loss = 100.97321980650318\n",
      "iteration 70: loss = 100.97505137612157, pde loss = 100.9750127435224\n",
      "iteration 80: loss = 100.97646706338413, pde loss = 100.97645299979298\n",
      "iteration 90: loss = 100.97731202475936, pde loss = 100.97730670087023\n",
      "iteration 100: loss = 100.97815498696576, pde loss = 100.9781533742269\n",
      "iteration 110: loss = 100.97897824471401, pde loss = 100.97897804492716\n",
      "iteration 120: loss = 100.97926609614726, pde loss = 100.97926608678895\n",
      "iteration 130: loss = 100.97931337748854, pde loss = 100.97931330586547\n",
      "iteration 140: loss = 100.97962077468368, pde loss = 100.97962075472844\n",
      "iteration 150: loss = 100.97915634666965, pde loss = 100.97915634562214\n",
      "iteration 160: loss = 100.97921415712739, pde loss = 100.97921415321798\n",
      "iteration 170: loss = 100.97930392491615, pde loss = 100.97930392490927\n",
      "iteration 180: loss = 100.97918422718458, pde loss = 100.97918422670084\n",
      "iteration 190: loss = 100.97923267166401, pde loss = 100.97923267164184\n",
      "iteration 200: loss = 100.97908352498835, pde loss = 100.97908352495283\n"
     ]
    },
    {
     "data": {
      "image/png": "[encoded data removed]",
      "text/plain": [
       "<Figure size 576x432 with 2 Axes>"
      ]
     },
     "metadata": {},
     "output_type": "display_data"
    },
    {
     "data": {
      "image/png": "[encoded data removed]",
      "text/plain": [
       "<Figure size 720x360 with 1 Axes>"
      ]
     },
     "metadata": {},
     "output_type": "display_data"
    },
    {
     "name": "stdout",
     "output_type": "stream",
     "text": [
      "iteration 210: loss = 100.97924224266305, pde loss = 100.97924224264564\n",
      "iteration 220: loss = 100.97920651843019, pde loss = 100.97920651843002\n",
      "iteration 230: loss = 100.97907526459434, pde loss = 100.97907526459332\n",
      "iteration 240: loss = 100.97920558757299, pde loss = 100.9792055875723\n",
      "iteration 250: loss = 100.97909019098519, pde loss = 100.97909019098496\n",
      "iteration 260: loss = 100.979255718298, pde loss = 100.97925571829799\n",
      "iteration 270: loss = 100.97927195314767, pde loss = 100.97927195314766\n",
      "iteration 280: loss = 100.97943220746536, pde loss = 100.97943220746536\n",
      "iteration 290: loss = 100.97944604560472, pde loss = 100.97944604560472\n",
      "iteration 300: loss = 100.97943519658747, pde loss = 100.97943519658747\n"
     ]
    }
   ],
   "source": [
    "\n",
    "def construct_model(net):\n",
    "    class Poisson1dModel(Model):\n",
    "        def add_loss_history(self):\n",
    "            self.loss_history.append([self.bc_loss, self.pde_loss, self.predict_error_value])\n",
    "\n",
    "        def __init__(self):\n",
    "            super().__init__(problem=problem, net=net, maxiter=maxiter)\n",
    "\n",
    "        def inner_sample(self, N=N):\n",
    "            azimuth = torch.linspace(0.0001, pi, N, requires_grad=False)\n",
    "            polar = torch.linspace(0, 2*pi, 2*N, requires_grad=False)\n",
    "            \n",
    "            azimuth, polar = torch.meshgrid(azimuth, polar)\n",
    "            location = torch.cat([azimuth.reshape(-1, 1), polar.reshape(-1, 1)], dim=1)\n",
    "            return location\n",
    "\n",
    "        def bc_sample(self):\n",
    "            return torch.tensor([[1., 1.]])\n",
    "\n",
    "        def init_sample(self):\n",
    "            pass\n",
    "\n",
    "        def plot(self, net):\n",
    "            azimuth = torch.linspace(0, math.pi, N, requires_grad=False)\n",
    "            polar = torch.linspace(0, 2 * math.pi, 2*N, requires_grad=False)\n",
    "            azimuth, polar = torch.meshgrid(azimuth, polar)\n",
    "            location = torch.cat([azimuth.reshape(-1, 1), polar.reshape(-1, 1)], dim=1)\n",
    "            value = net(location)\n",
    "            \n",
    "            value = value.reshape((N, 2*N))\n",
    "            \n",
    "            fig, ax = plt.subplots(1, 1, figsize=(8, 6))\n",
    "            sns.set()\n",
    "            sns.heatmap(value.detach().numpy(), ax=ax, vmin=-0.5, vmax=0.5, cbar=True)\n",
    "            ax.set_xticks([])\n",
    "            ax.set_yticks([])\n",
    "            ax.set_title(\"Predicted Solution\")\n",
    "            plt.show()\n",
    "            \n",
    "            self.spherical_harmonic_transform(net)\n",
    "        \n",
    "        def spherical_harmonic_transform(self, net):\n",
    "            azimuth = torch.linspace(0, math.pi, N, requires_grad=False)\n",
    "            polar = torch.linspace(0, 2 * math.pi, 2*N, requires_grad=False)\n",
    "            azimuth, polar = torch.meshgrid(azimuth, polar)\n",
    "            location = torch.cat([azimuth.reshape(-1, 1), polar.reshape(-1, 1)], dim=1)\n",
    "            function_grid = net(location)\n",
    "            function_grid = function_grid.reshape((N, 2*N))\n",
    "            \n",
    "            coefficients = SHExpandDH(function_grid.detach().numpy(), sampling=2)\n",
    "            nl = coefficients.shape[1]\n",
    "            ls = np.arange(nl)[:10]\n",
    "\n",
    "            power_per_l = spectrum(coefficients)[:10]\n",
    "            fig, ax = plt.subplots(1, 1, figsize=(len(ls), 5))\n",
    "            ax.plot(ls, power_per_l, 'bo')\n",
    "            ax.plot(ls, power_per_l, 'k-')\n",
    "            plt.xticks(range(len(ls)))\n",
    "            ax.grid()\n",
    "            plt.show()\n",
    "            \n",
    "        \n",
    "        def plot_true(self):\n",
    "            azimuth = torch.linspace(0, math.pi, N, requires_grad=False)\n",
    "            polar = torch.linspace(0, 2 * math.pi, 2*N, requires_grad=False)\n",
    "            azimuth, polar = torch.meshgrid(azimuth, polar)\n",
    "            location = torch.cat([azimuth.reshape(-1, 1), polar.reshape(-1, 1)], dim=1)\n",
    "            value = true_solution(location[:, 0:1], location[:, 1:])\n",
    "            \n",
    "            value = value.reshape((N, 2*N))\n",
    "            \n",
    "            fig, ax = plt.subplots(1, 1, figsize=(8, 6))\n",
    "            sns.set()\n",
    "            sns.heatmap(value.detach().numpy(), ax=ax, vmin=-0.5, vmax=0.5, cbar=True)\n",
    "            ax.set_xticks([])\n",
    "            ax.set_yticks([])\n",
    "            ax.set_title(\"True Solution\")\n",
    "            plt.show()\n",
    "            \n",
    "        def post_process(self, ax=None):\n",
    "            if ax is None:\n",
    "                for losses in self.loss_history:\n",
    "                    for i in range(3):\n",
    "                        losses[i].detach().numpy()\n",
    "                plt.plot(self.loss_history)\n",
    "                plt.yscale('log')\n",
    "                plt.legend(('BC loss', 'pde loss', 'predict error'))\n",
    "                plt.show()\n",
    "            else:\n",
    "                for losses in self.loss_history:\n",
    "                    for i in range(3):\n",
    "                        losses[i].detach().numpy()\n",
    "                ax.plot(self.loss_history)\n",
    "                ax.set_yscale('log')\n",
    "                ax.set_ylim(1e-4, 100)\n",
    "                ax.legend(('BC loss', 'pde loss', 'predict error'))\n",
    "\n",
    "        def predict_error(self):\n",
    "            coor = self.inner_sample()\n",
    "            true = self.problem.ground_truth(coor)\n",
    "            predict = self.net(coor)\n",
    "            predict_error = self.pde_loss_f(true, predict)\n",
    "            return predict_error\n",
    "\n",
    "        def train(self, ax100=None):\n",
    "            problem = self.problem\n",
    "            net = self.net\n",
    "            opt = self.opt\n",
    "            maxiter = self.maxiter\n",
    "\n",
    "            for iter in range(maxiter):\n",
    "                net.zero_grad()\n",
    "\n",
    "                coor_inner = self.inner_sample().detach().requires_grad_(True)\n",
    "                infer_value_inner = net(coor_inner)\n",
    "                truth_inner, predict_inner = problem.pde(coor_inner, infer_value_inner)\n",
    "                self.pde_loss = self.pde_loss_f(predict_inner, truth_inner)\n",
    "\n",
    "                bc_samples = self.bc_sample()\n",
    "                if bc_samples is None:\n",
    "                    self.bc_loss = torch.tensor(0.)\n",
    "                else:\n",
    "                    coor_bc = bc_samples.detach().requires_grad_(True)\n",
    "                    infer_value_bc = net(coor_bc)\n",
    "                    truth_bc, predict_bc = problem.bound_condition(coor_bc, infer_value_bc)\n",
    "                    self.bc_loss = self.bc_loss_f(predict_bc, truth_bc)\n",
    "\n",
    "                init_samples = self.init_sample()\n",
    "                if init_samples is None:\n",
    "                    self.init_loss = torch.tensor(0.)\n",
    "                else:\n",
    "                    coor_init = init_samples.detach().requires_grad_(True)\n",
    "                    infer_value_init = net(coor_init)\n",
    "                    truth_init, predict_init = problem.bound_condition(coor_init, infer_value_init)\n",
    "                    self.init_loss = self.bc_loss_f(predict_init, truth_init)\n",
    "                self.predict_error_value = self.predict_error()\n",
    "                self.total_loss = self.pde_loss + self.bc_loss + self.init_loss\n",
    "                # print(\"pde: \"+ str(self.pde_loss))\n",
    "                # print(\"bc: \"+ str(self.bc_loss))\n",
    "                # print(\"init: \"+ str(self.init_loss))\n",
    "                self.add_loss_history()\n",
    "                self.total_loss.backward()\n",
    "\n",
    "                opt.step()\n",
    "                opt.zero_grad()\n",
    "                \n",
    "                if iter % (maxiter // 100) == 0:\n",
    "                    print(\"iteration {}: loss = {}, pde loss = {}\".format(iter, self.total_loss, self.pde_loss))\n",
    "                        \n",
    "                if iter % int(maxiter / 5) == 0:\n",
    "                    self.plot(net)\n",
    "                \n",
    "            self.plot(net)\n",
    "            self.plot_true()\n",
    "            # self.post_process()\n",
    "\n",
    "    return Poisson1dModel()\n",
    "\n",
    "model = construct_model(Sphere_Net([3, 100, 50, 50, 16, 1]))\n",
    "model.train()\n"
   ]
  },
  {
   "cell_type": "code",
   "execution_count": null,
   "metadata": {},
   "outputs": [],
   "source": []
  }
 ],
 "metadata": {
  "interpreter": {
   "hash": "06a74a1cd2b6850deab509439ae0ffa235a9c856e0e42967630abba7ecb560f7"
  },
  "kernelspec": {
   "display_name": "Python 3",
   "language": "python",
   "name": "python3"
  },
  "language_info": {
   "codemirror_mode": {
    "name": "ipython",
    "version": 3
   },
   "file_extension": ".py",
   "mimetype": "text/x-python",
   "name": "python",
   "nbconvert_exporter": "python",
   "pygments_lexer": "ipython3",
   "version": "3.8.8"
  },
  "toc": {
   "base_numbering": 1,
   "nav_menu": {},
   "number_sections": true,
   "sideBar": true,
   "skip_h1_title": false,
   "title_cell": "Table of Contents",
   "title_sidebar": "Contents",
   "toc_cell": false,
   "toc_position": {},
   "toc_section_display": true,
   "toc_window_display": false
  },
  "varInspector": {
   "cols": {
    "lenName": 16,
    "lenType": 16,
    "lenVar": 40
   },
   "kernels_config": {
    "python": {
     "delete_cmd_postfix": "",
     "delete_cmd_prefix": "del ",
     "library": "var_list.py",
     "varRefreshCmd": "print(var_dic_list())"
    },
    "r": {
     "delete_cmd_postfix": ") ",
     "delete_cmd_prefix": "rm(",
     "library": "var_list.r",
     "varRefreshCmd": "cat(var_dic_list()) "
    }
   },
   "position": {
    "height": "502px",
    "left": "588px",
    "right": "20px",
    "top": "120px",
    "width": "350px"
   },
   "types_to_exclude": [
    "module",
    "function",
    "builtin_function_or_method",
    "instance",
    "_Feature"
   ],
   "window_display": true
  }
 },
 "nbformat": 4,
 "nbformat_minor": 4
}
